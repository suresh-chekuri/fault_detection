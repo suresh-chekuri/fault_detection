{
 "cells": [
  {
   "cell_type": "code",
   "execution_count": 3,
   "id": "2674e04c",
   "metadata": {},
   "outputs": [],
   "source": [
    "import psycopg2\n",
    "import pandas as pd\n",
    "import numpy as np\n",
    "import re\n",
    "import sys\n",
    "from datetime import datetime, timedelta\n",
    "from dateutil import parser\n",
    "import itertools\n",
    "import warnings\n",
    "warnings.filterwarnings(\"ignore\")\n",
    "pd.options.mode.chained_assignment = None"
   ]
  },
  {
   "cell_type": "code",
   "execution_count": 4,
   "id": "8706b596",
   "metadata": {},
   "outputs": [],
   "source": [
    "df=pd.read_csv(\"data with Anmoly_15.06.2023.csv\")"
   ]
  },
  {
   "cell_type": "code",
   "execution_count": 5,
   "id": "361bf6bb",
   "metadata": {
    "scrolled": true
   },
   "outputs": [
    {
     "data": {
      "text/html": [
       "<div>\n",
       "<style scoped>\n",
       "    .dataframe tbody tr th:only-of-type {\n",
       "        vertical-align: middle;\n",
       "    }\n",
       "\n",
       "    .dataframe tbody tr th {\n",
       "        vertical-align: top;\n",
       "    }\n",
       "\n",
       "    .dataframe thead th {\n",
       "        text-align: right;\n",
       "    }\n",
       "</style>\n",
       "<table border=\"1\" class=\"dataframe\">\n",
       "  <thead>\n",
       "    <tr style=\"text-align: right;\">\n",
       "      <th></th>\n",
       "      <th>Unnamed: 0</th>\n",
       "      <th>customer_zip_code_prefix</th>\n",
       "      <th>customer_city</th>\n",
       "      <th>customer_state</th>\n",
       "      <th>no_of_orders</th>\n",
       "      <th>purchased_approved</th>\n",
       "      <th>delivered_estimated</th>\n",
       "      <th>purchased_delivered</th>\n",
       "      <th>no_of_products</th>\n",
       "      <th>price</th>\n",
       "      <th>...</th>\n",
       "      <th>product_weight_g</th>\n",
       "      <th>product_length_cm</th>\n",
       "      <th>product_height_cm</th>\n",
       "      <th>product_width_cm</th>\n",
       "      <th>payment_type</th>\n",
       "      <th>payment_installments</th>\n",
       "      <th>payment_value</th>\n",
       "      <th>review_score</th>\n",
       "      <th>type</th>\n",
       "      <th>Anomaly_Score</th>\n",
       "    </tr>\n",
       "  </thead>\n",
       "  <tbody>\n",
       "    <tr>\n",
       "      <th>0</th>\n",
       "      <td>0</td>\n",
       "      <td>14960</td>\n",
       "      <td>novo horizonte</td>\n",
       "      <td>SP</td>\n",
       "      <td>1</td>\n",
       "      <td>812.00</td>\n",
       "      <td>5.0</td>\n",
       "      <td>9.00</td>\n",
       "      <td>1</td>\n",
       "      <td>144.00</td>\n",
       "      <td>...</td>\n",
       "      <td>468</td>\n",
       "      <td>23</td>\n",
       "      <td>18</td>\n",
       "      <td>19</td>\n",
       "      <td>credit_card</td>\n",
       "      <td>1</td>\n",
       "      <td>157.45</td>\n",
       "      <td>NaN</td>\n",
       "      <td>Normal</td>\n",
       "      <td>-0.035129</td>\n",
       "    </tr>\n",
       "    <tr>\n",
       "      <th>1</th>\n",
       "      <td>1</td>\n",
       "      <td>63700</td>\n",
       "      <td>crateus</td>\n",
       "      <td>CE</td>\n",
       "      <td>1</td>\n",
       "      <td>672.00</td>\n",
       "      <td>20.0</td>\n",
       "      <td>9.00</td>\n",
       "      <td>1</td>\n",
       "      <td>99.99</td>\n",
       "      <td>...</td>\n",
       "      <td>1200</td>\n",
       "      <td>42</td>\n",
       "      <td>25</td>\n",
       "      <td>15</td>\n",
       "      <td>credit_card</td>\n",
       "      <td>8</td>\n",
       "      <td>127.23</td>\n",
       "      <td>NaN</td>\n",
       "      <td>Normal</td>\n",
       "      <td>-0.012103</td>\n",
       "    </tr>\n",
       "    <tr>\n",
       "      <th>2</th>\n",
       "      <td>2</td>\n",
       "      <td>85400</td>\n",
       "      <td>guaraniacu</td>\n",
       "      <td>PR</td>\n",
       "      <td>1</td>\n",
       "      <td>42890.00</td>\n",
       "      <td>15.0</td>\n",
       "      <td>11.00</td>\n",
       "      <td>1</td>\n",
       "      <td>22.99</td>\n",
       "      <td>...</td>\n",
       "      <td>598</td>\n",
       "      <td>38</td>\n",
       "      <td>30</td>\n",
       "      <td>38</td>\n",
       "      <td>boleto</td>\n",
       "      <td>1</td>\n",
       "      <td>35.75</td>\n",
       "      <td>5.0</td>\n",
       "      <td>Normal</td>\n",
       "      <td>-0.019696</td>\n",
       "    </tr>\n",
       "    <tr>\n",
       "      <th>3</th>\n",
       "      <td>3</td>\n",
       "      <td>91510</td>\n",
       "      <td>porto alegre</td>\n",
       "      <td>RS</td>\n",
       "      <td>4</td>\n",
       "      <td>548.25</td>\n",
       "      <td>24.0</td>\n",
       "      <td>13.25</td>\n",
       "      <td>3</td>\n",
       "      <td>67.60</td>\n",
       "      <td>...</td>\n",
       "      <td>1000</td>\n",
       "      <td>160</td>\n",
       "      <td>16</td>\n",
       "      <td>120</td>\n",
       "      <td>credit_card</td>\n",
       "      <td>1</td>\n",
       "      <td>131.80</td>\n",
       "      <td>NaN</td>\n",
       "      <td>AbNormal</td>\n",
       "      <td>0.012777</td>\n",
       "    </tr>\n",
       "    <tr>\n",
       "      <th>4</th>\n",
       "      <td>4</td>\n",
       "      <td>12232</td>\n",
       "      <td>sao jose dos campos</td>\n",
       "      <td>SP</td>\n",
       "      <td>1</td>\n",
       "      <td>1915.00</td>\n",
       "      <td>5.0</td>\n",
       "      <td>3.00</td>\n",
       "      <td>1</td>\n",
       "      <td>47.80</td>\n",
       "      <td>...</td>\n",
       "      <td>600</td>\n",
       "      <td>32</td>\n",
       "      <td>10</td>\n",
       "      <td>24</td>\n",
       "      <td>credit_card</td>\n",
       "      <td>1</td>\n",
       "      <td>126.44</td>\n",
       "      <td>NaN</td>\n",
       "      <td>Normal</td>\n",
       "      <td>-0.024299</td>\n",
       "    </tr>\n",
       "    <tr>\n",
       "      <th>...</th>\n",
       "      <td>...</td>\n",
       "      <td>...</td>\n",
       "      <td>...</td>\n",
       "      <td>...</td>\n",
       "      <td>...</td>\n",
       "      <td>...</td>\n",
       "      <td>...</td>\n",
       "      <td>...</td>\n",
       "      <td>...</td>\n",
       "      <td>...</td>\n",
       "      <td>...</td>\n",
       "      <td>...</td>\n",
       "      <td>...</td>\n",
       "      <td>...</td>\n",
       "      <td>...</td>\n",
       "      <td>...</td>\n",
       "      <td>...</td>\n",
       "      <td>...</td>\n",
       "      <td>...</td>\n",
       "      <td>...</td>\n",
       "      <td>...</td>\n",
       "    </tr>\n",
       "    <tr>\n",
       "      <th>86229</th>\n",
       "      <td>86229</td>\n",
       "      <td>8542</td>\n",
       "      <td>ferraz de vasconcelos</td>\n",
       "      <td>SP</td>\n",
       "      <td>1</td>\n",
       "      <td>1427.00</td>\n",
       "      <td>12.0</td>\n",
       "      <td>2.00</td>\n",
       "      <td>1</td>\n",
       "      <td>27.90</td>\n",
       "      <td>...</td>\n",
       "      <td>50</td>\n",
       "      <td>17</td>\n",
       "      <td>10</td>\n",
       "      <td>15</td>\n",
       "      <td>credit_card</td>\n",
       "      <td>1</td>\n",
       "      <td>35.77</td>\n",
       "      <td>NaN</td>\n",
       "      <td>Normal</td>\n",
       "      <td>-0.034770</td>\n",
       "    </tr>\n",
       "    <tr>\n",
       "      <th>86230</th>\n",
       "      <td>86230</td>\n",
       "      <td>27260</td>\n",
       "      <td>volta redonda</td>\n",
       "      <td>RJ</td>\n",
       "      <td>1</td>\n",
       "      <td>31929.00</td>\n",
       "      <td>-1.0</td>\n",
       "      <td>28.00</td>\n",
       "      <td>1</td>\n",
       "      <td>69.00</td>\n",
       "      <td>...</td>\n",
       "      <td>1644</td>\n",
       "      <td>16</td>\n",
       "      <td>19</td>\n",
       "      <td>16</td>\n",
       "      <td>boleto</td>\n",
       "      <td>1</td>\n",
       "      <td>88.72</td>\n",
       "      <td>NaN</td>\n",
       "      <td>Normal</td>\n",
       "      <td>-0.014633</td>\n",
       "    </tr>\n",
       "    <tr>\n",
       "      <th>86231</th>\n",
       "      <td>86231</td>\n",
       "      <td>18065</td>\n",
       "      <td>sorocaba</td>\n",
       "      <td>SP</td>\n",
       "      <td>1</td>\n",
       "      <td>2883.00</td>\n",
       "      <td>16.0</td>\n",
       "      <td>6.00</td>\n",
       "      <td>1</td>\n",
       "      <td>55.90</td>\n",
       "      <td>...</td>\n",
       "      <td>500</td>\n",
       "      <td>16</td>\n",
       "      <td>8</td>\n",
       "      <td>20</td>\n",
       "      <td>credit_card</td>\n",
       "      <td>6</td>\n",
       "      <td>67.79</td>\n",
       "      <td>NaN</td>\n",
       "      <td>Normal</td>\n",
       "      <td>-0.023207</td>\n",
       "    </tr>\n",
       "    <tr>\n",
       "      <th>86232</th>\n",
       "      <td>86232</td>\n",
       "      <td>38407</td>\n",
       "      <td>uberlandia</td>\n",
       "      <td>MG</td>\n",
       "      <td>1</td>\n",
       "      <td>781.00</td>\n",
       "      <td>13.0</td>\n",
       "      <td>16.00</td>\n",
       "      <td>1</td>\n",
       "      <td>31.90</td>\n",
       "      <td>...</td>\n",
       "      <td>250</td>\n",
       "      <td>41</td>\n",
       "      <td>2</td>\n",
       "      <td>29</td>\n",
       "      <td>credit_card</td>\n",
       "      <td>4</td>\n",
       "      <td>44.38</td>\n",
       "      <td>NaN</td>\n",
       "      <td>Normal</td>\n",
       "      <td>-0.018213</td>\n",
       "    </tr>\n",
       "    <tr>\n",
       "      <th>86233</th>\n",
       "      <td>86233</td>\n",
       "      <td>9405</td>\n",
       "      <td>ribeirao pires</td>\n",
       "      <td>SP</td>\n",
       "      <td>1</td>\n",
       "      <td>544.00</td>\n",
       "      <td>15.0</td>\n",
       "      <td>10.00</td>\n",
       "      <td>1</td>\n",
       "      <td>179.85</td>\n",
       "      <td>...</td>\n",
       "      <td>950</td>\n",
       "      <td>53</td>\n",
       "      <td>5</td>\n",
       "      <td>13</td>\n",
       "      <td>credit_card</td>\n",
       "      <td>4</td>\n",
       "      <td>196.32</td>\n",
       "      <td>NaN</td>\n",
       "      <td>Normal</td>\n",
       "      <td>-0.031164</td>\n",
       "    </tr>\n",
       "  </tbody>\n",
       "</table>\n",
       "<p>86234 rows × 21 columns</p>\n",
       "</div>"
      ],
      "text/plain": [
       "       Unnamed: 0  customer_zip_code_prefix          customer_city  \\\n",
       "0               0                     14960         novo horizonte   \n",
       "1               1                     63700                crateus   \n",
       "2               2                     85400             guaraniacu   \n",
       "3               3                     91510           porto alegre   \n",
       "4               4                     12232    sao jose dos campos   \n",
       "...           ...                       ...                    ...   \n",
       "86229       86229                      8542  ferraz de vasconcelos   \n",
       "86230       86230                     27260          volta redonda   \n",
       "86231       86231                     18065               sorocaba   \n",
       "86232       86232                     38407             uberlandia   \n",
       "86233       86233                      9405         ribeirao pires   \n",
       "\n",
       "      customer_state  no_of_orders  purchased_approved  delivered_estimated  \\\n",
       "0                 SP             1              812.00                  5.0   \n",
       "1                 CE             1              672.00                 20.0   \n",
       "2                 PR             1            42890.00                 15.0   \n",
       "3                 RS             4              548.25                 24.0   \n",
       "4                 SP             1             1915.00                  5.0   \n",
       "...              ...           ...                 ...                  ...   \n",
       "86229             SP             1             1427.00                 12.0   \n",
       "86230             RJ             1            31929.00                 -1.0   \n",
       "86231             SP             1             2883.00                 16.0   \n",
       "86232             MG             1              781.00                 13.0   \n",
       "86233             SP             1              544.00                 15.0   \n",
       "\n",
       "       purchased_delivered  no_of_products   price  ...  product_weight_g  \\\n",
       "0                     9.00               1  144.00  ...               468   \n",
       "1                     9.00               1   99.99  ...              1200   \n",
       "2                    11.00               1   22.99  ...               598   \n",
       "3                    13.25               3   67.60  ...              1000   \n",
       "4                     3.00               1   47.80  ...               600   \n",
       "...                    ...             ...     ...  ...               ...   \n",
       "86229                 2.00               1   27.90  ...                50   \n",
       "86230                28.00               1   69.00  ...              1644   \n",
       "86231                 6.00               1   55.90  ...               500   \n",
       "86232                16.00               1   31.90  ...               250   \n",
       "86233                10.00               1  179.85  ...               950   \n",
       "\n",
       "       product_length_cm  product_height_cm  product_width_cm  payment_type  \\\n",
       "0                     23                 18                19   credit_card   \n",
       "1                     42                 25                15   credit_card   \n",
       "2                     38                 30                38        boleto   \n",
       "3                    160                 16               120   credit_card   \n",
       "4                     32                 10                24   credit_card   \n",
       "...                  ...                ...               ...           ...   \n",
       "86229                 17                 10                15   credit_card   \n",
       "86230                 16                 19                16        boleto   \n",
       "86231                 16                  8                20   credit_card   \n",
       "86232                 41                  2                29   credit_card   \n",
       "86233                 53                  5                13   credit_card   \n",
       "\n",
       "      payment_installments  payment_value  review_score      type  \\\n",
       "0                        1         157.45           NaN    Normal   \n",
       "1                        8         127.23           NaN    Normal   \n",
       "2                        1          35.75           5.0    Normal   \n",
       "3                        1         131.80           NaN  AbNormal   \n",
       "4                        1         126.44           NaN    Normal   \n",
       "...                    ...            ...           ...       ...   \n",
       "86229                    1          35.77           NaN    Normal   \n",
       "86230                    1          88.72           NaN    Normal   \n",
       "86231                    6          67.79           NaN    Normal   \n",
       "86232                    4          44.38           NaN    Normal   \n",
       "86233                    4         196.32           NaN    Normal   \n",
       "\n",
       "      Anomaly_Score  \n",
       "0         -0.035129  \n",
       "1         -0.012103  \n",
       "2         -0.019696  \n",
       "3          0.012777  \n",
       "4         -0.024299  \n",
       "...             ...  \n",
       "86229     -0.034770  \n",
       "86230     -0.014633  \n",
       "86231     -0.023207  \n",
       "86232     -0.018213  \n",
       "86233     -0.031164  \n",
       "\n",
       "[86234 rows x 21 columns]"
      ]
     },
     "execution_count": 5,
     "metadata": {},
     "output_type": "execute_result"
    }
   ],
   "source": [
    "df"
   ]
  },
  {
   "cell_type": "code",
   "execution_count": 11,
   "id": "e9315f33",
   "metadata": {},
   "outputs": [
    {
     "data": {
      "text/plain": [
       "Index(['Unnamed: 0', 'customer_zip_code_prefix', 'customer_city',\n",
       "       'customer_state', 'no_of_orders', 'purchased_approved',\n",
       "       'delivered_estimated', 'purchased_delivered', 'no_of_products', 'price',\n",
       "       'freight_value', 'product_weight_g', 'product_length_cm',\n",
       "       'product_height_cm', 'product_width_cm', 'payment_type',\n",
       "       'payment_installments', 'payment_value', 'review_score', 'type',\n",
       "       'Anomaly_Score'],\n",
       "      dtype='object')"
      ]
     },
     "execution_count": 11,
     "metadata": {},
     "output_type": "execute_result"
    }
   ],
   "source": [
    "df.columns"
   ]
  },
  {
   "cell_type": "code",
   "execution_count": 6,
   "id": "c8526c64",
   "metadata": {
    "scrolled": true
   },
   "outputs": [
    {
     "data": {
      "text/plain": [
       "<seaborn.axisgrid.FacetGrid at 0x11e75837850>"
      ]
     },
     "execution_count": 6,
     "metadata": {},
     "output_type": "execute_result"
    },
    {
     "data": {
      "image/png": "[encoded data removed]",
      "text/plain": [
       "<Figure size 360x360 with 1 Axes>"
      ]
     },
     "metadata": {
      "needs_background": "light"
     },
     "output_type": "display_data"
    }
   ],
   "source": [
    "import numpy as np\n",
    "import pandas as pd\n",
    "import seaborn as sns\n",
    "import matplotlib.pyplot as plt\n",
    "\n",
    "sns.catplot(x = 'type', y = 'purchased_approved', kind = 'box', data = df )"
   ]
  },
  {
   "cell_type": "code",
   "execution_count": 7,
   "id": "25cf0241",
   "metadata": {},
   "outputs": [
    {
     "data": {
      "text/html": [
       "<div>\n",
       "<style scoped>\n",
       "    .dataframe tbody tr th:only-of-type {\n",
       "        vertical-align: middle;\n",
       "    }\n",
       "\n",
       "    .dataframe tbody tr th {\n",
       "        vertical-align: top;\n",
       "    }\n",
       "\n",
       "    .dataframe thead th {\n",
       "        text-align: right;\n",
       "    }\n",
       "</style>\n",
       "<table border=\"1\" class=\"dataframe\">\n",
       "  <thead>\n",
       "    <tr style=\"text-align: right;\">\n",
       "      <th></th>\n",
       "      <th>count</th>\n",
       "      <th>mean</th>\n",
       "      <th>std</th>\n",
       "      <th>min</th>\n",
       "      <th>25%</th>\n",
       "      <th>50%</th>\n",
       "      <th>75%</th>\n",
       "      <th>max</th>\n",
       "    </tr>\n",
       "    <tr>\n",
       "      <th>type</th>\n",
       "      <th></th>\n",
       "      <th></th>\n",
       "      <th></th>\n",
       "      <th></th>\n",
       "      <th></th>\n",
       "      <th></th>\n",
       "      <th></th>\n",
       "      <th></th>\n",
       "    </tr>\n",
       "  </thead>\n",
       "  <tbody>\n",
       "    <tr>\n",
       "      <th>AbNormal</th>\n",
       "      <td>4312.0</td>\n",
       "      <td>24253.733154</td>\n",
       "      <td>28788.462142</td>\n",
       "      <td>0.0</td>\n",
       "      <td>867.75</td>\n",
       "      <td>4323.16675</td>\n",
       "      <td>47777.5</td>\n",
       "      <td>86399.0</td>\n",
       "    </tr>\n",
       "    <tr>\n",
       "      <th>Normal</th>\n",
       "      <td>81922.0</td>\n",
       "      <td>13373.398231</td>\n",
       "      <td>22931.942334</td>\n",
       "      <td>0.0</td>\n",
       "      <td>753.00</td>\n",
       "      <td>1143.00000</td>\n",
       "      <td>13076.0</td>\n",
       "      <td>86399.0</td>\n",
       "    </tr>\n",
       "  </tbody>\n",
       "</table>\n",
       "</div>"
      ],
      "text/plain": [
       "            count          mean           std  min     25%         50%  \\\n",
       "type                                                                     \n",
       "AbNormal   4312.0  24253.733154  28788.462142  0.0  867.75  4323.16675   \n",
       "Normal    81922.0  13373.398231  22931.942334  0.0  753.00  1143.00000   \n",
       "\n",
       "              75%      max  \n",
       "type                        \n",
       "AbNormal  47777.5  86399.0  \n",
       "Normal    13076.0  86399.0  "
      ]
     },
     "execution_count": 7,
     "metadata": {},
     "output_type": "execute_result"
    }
   ],
   "source": [
    "df.groupby(['type'])['purchased_approved'].describe()"
   ]
  },
  {
   "cell_type": "code",
   "execution_count": 10,
   "id": "64ba2714",
   "metadata": {
    "scrolled": true
   },
   "outputs": [
    {
     "data": {
      "text/plain": [
       "type\n",
       "AbNormal    4323.16675\n",
       "Normal      1143.00000\n",
       "Name: purchased_approved, dtype: float64"
      ]
     },
     "execution_count": 10,
     "metadata": {},
     "output_type": "execute_result"
    }
   ],
   "source": [
    "df.groupby(['type'])['purchased_approved'].median()"
   ]
  },
  {
   "cell_type": "code",
   "execution_count": 12,
   "id": "066db169",
   "metadata": {},
   "outputs": [
    {
     "data": {
      "text/plain": [
       "<seaborn.axisgrid.FacetGrid at 0x11e77bfff70>"
      ]
     },
     "execution_count": 12,
     "metadata": {},
     "output_type": "execute_result"
    },
    {
     "data": {
      "image/png": "[encoded data removed]",
      "text/plain": [
       "<Figure size 360x360 with 1 Axes>"
      ]
     },
     "metadata": {
      "needs_background": "light"
     },
     "output_type": "display_data"
    }
   ],
   "source": [
    "sns.catplot(x = 'type', y = 'freight_value', kind = 'box', data = df )"
   ]
  },
  {
   "cell_type": "code",
   "execution_count": 13,
   "id": "ff5efb40",
   "metadata": {
    "scrolled": true
   },
   "outputs": [
    {
     "data": {
      "text/html": [
       "<div>\n",
       "<style scoped>\n",
       "    .dataframe tbody tr th:only-of-type {\n",
       "        vertical-align: middle;\n",
       "    }\n",
       "\n",
       "    .dataframe tbody tr th {\n",
       "        vertical-align: top;\n",
       "    }\n",
       "\n",
       "    .dataframe thead th {\n",
       "        text-align: right;\n",
       "    }\n",
       "</style>\n",
       "<table border=\"1\" class=\"dataframe\">\n",
       "  <thead>\n",
       "    <tr style=\"text-align: right;\">\n",
       "      <th></th>\n",
       "      <th>count</th>\n",
       "      <th>mean</th>\n",
       "      <th>std</th>\n",
       "      <th>min</th>\n",
       "      <th>25%</th>\n",
       "      <th>50%</th>\n",
       "      <th>75%</th>\n",
       "      <th>max</th>\n",
       "    </tr>\n",
       "    <tr>\n",
       "      <th>type</th>\n",
       "      <th></th>\n",
       "      <th></th>\n",
       "      <th></th>\n",
       "      <th></th>\n",
       "      <th></th>\n",
       "      <th></th>\n",
       "      <th></th>\n",
       "      <th></th>\n",
       "    </tr>\n",
       "  </thead>\n",
       "  <tbody>\n",
       "    <tr>\n",
       "      <th>AbNormal</th>\n",
       "      <td>4312.0</td>\n",
       "      <td>76.349624</td>\n",
       "      <td>83.577258</td>\n",
       "      <td>0.0</td>\n",
       "      <td>31.9675</td>\n",
       "      <td>54.37</td>\n",
       "      <td>91.72</td>\n",
       "      <td>1794.96</td>\n",
       "    </tr>\n",
       "    <tr>\n",
       "      <th>Normal</th>\n",
       "      <td>81922.0</td>\n",
       "      <td>21.905646</td>\n",
       "      <td>15.521990</td>\n",
       "      <td>0.0</td>\n",
       "      <td>13.9200</td>\n",
       "      <td>17.30</td>\n",
       "      <td>24.78</td>\n",
       "      <td>321.46</td>\n",
       "    </tr>\n",
       "  </tbody>\n",
       "</table>\n",
       "</div>"
      ],
      "text/plain": [
       "            count       mean        std  min      25%    50%    75%      max\n",
       "type                                                                        \n",
       "AbNormal   4312.0  76.349624  83.577258  0.0  31.9675  54.37  91.72  1794.96\n",
       "Normal    81922.0  21.905646  15.521990  0.0  13.9200  17.30  24.78   321.46"
      ]
     },
     "execution_count": 13,
     "metadata": {},
     "output_type": "execute_result"
    }
   ],
   "source": [
    "df.groupby(['type'])['freight_value'].describe()"
   ]
  },
  {
   "cell_type": "code",
   "execution_count": 14,
   "id": "88ac7aaf",
   "metadata": {
    "scrolled": false
   },
   "outputs": [
    {
     "data": {
      "text/plain": [
       "type\n",
       "AbNormal    54.37\n",
       "Normal      17.30\n",
       "Name: freight_value, dtype: float64"
      ]
     },
     "execution_count": 14,
     "metadata": {},
     "output_type": "execute_result"
    }
   ],
   "source": [
    "df.groupby(['type'])['freight_value'].median()"
   ]
  },
  {
   "cell_type": "code",
   "execution_count": 16,
   "id": "0c212bce",
   "metadata": {},
   "outputs": [
    {
     "data": {
      "text/html": [
       "<div>\n",
       "<style scoped>\n",
       "    .dataframe tbody tr th:only-of-type {\n",
       "        vertical-align: middle;\n",
       "    }\n",
       "\n",
       "    .dataframe tbody tr th {\n",
       "        vertical-align: top;\n",
       "    }\n",
       "\n",
       "    .dataframe thead th {\n",
       "        text-align: right;\n",
       "    }\n",
       "</style>\n",
       "<table border=\"1\" class=\"dataframe\">\n",
       "  <thead>\n",
       "    <tr style=\"text-align: right;\">\n",
       "      <th></th>\n",
       "      <th>count</th>\n",
       "      <th>mean</th>\n",
       "      <th>std</th>\n",
       "      <th>min</th>\n",
       "      <th>25%</th>\n",
       "      <th>50%</th>\n",
       "      <th>75%</th>\n",
       "      <th>max</th>\n",
       "    </tr>\n",
       "    <tr>\n",
       "      <th>Duration groups</th>\n",
       "      <th></th>\n",
       "      <th></th>\n",
       "      <th></th>\n",
       "      <th></th>\n",
       "      <th></th>\n",
       "      <th></th>\n",
       "      <th></th>\n",
       "      <th></th>\n",
       "    </tr>\n",
       "  </thead>\n",
       "  <tbody>\n",
       "    <tr>\n",
       "      <th>&lt;=5 years</th>\n",
       "      <td>859.0</td>\n",
       "      <td>1.20163</td>\n",
       "      <td>0.832357</td>\n",
       "      <td>0.0</td>\n",
       "      <td>0.7</td>\n",
       "      <td>1.0</td>\n",
       "      <td>1.5</td>\n",
       "      <td>6.0</td>\n",
       "    </tr>\n",
       "    <tr>\n",
       "      <th>&gt;5 years</th>\n",
       "      <td>763.0</td>\n",
       "      <td>1.37287</td>\n",
       "      <td>1.094911</td>\n",
       "      <td>0.0</td>\n",
       "      <td>0.7</td>\n",
       "      <td>1.0</td>\n",
       "      <td>1.6</td>\n",
       "      <td>8.0</td>\n",
       "    </tr>\n",
       "  </tbody>\n",
       "</table>\n",
       "</div>"
      ],
      "text/plain": [
       "                 count     mean       std  min  25%  50%  75%  max\n",
       "Duration groups                                                   \n",
       "<=5 years        859.0  1.20163  0.832357  0.0  0.7  1.0  1.5  6.0\n",
       ">5 years         763.0  1.37287  1.094911  0.0  0.7  1.0  1.6  8.0"
      ]
     },
     "execution_count": 16,
     "metadata": {},
     "output_type": "execute_result"
    }
   ],
   "source": [
    "df.groupby(['Duration groups'])['HbA1c Difference'].describe()"
   ]
  },
  {
   "cell_type": "code",
   "execution_count": 17,
   "id": "e9f93899",
   "metadata": {},
   "outputs": [
    {
     "data": {
      "text/plain": [
       "Duration groups\n",
       "<=5 years    1.0\n",
       ">5 years     1.0\n",
       "Name: HbA1c Difference, dtype: float64"
      ]
     },
     "execution_count": 17,
     "metadata": {},
     "output_type": "execute_result"
    }
   ],
   "source": [
    "df.groupby(['Duration groups'])['HbA1c Difference'].median()"
   ]
  },
  {
   "cell_type": "code",
   "execution_count": 16,
   "id": "f8717771",
   "metadata": {},
   "outputs": [
    {
     "data": {
      "text/plain": [
       "<seaborn.axisgrid.FacetGrid at 0x11e0e07bfa0>"
      ]
     },
     "execution_count": 16,
     "metadata": {},
     "output_type": "execute_result"
    },
    {
     "data": {
      "image/png": "[encoded data removed]",
      "text/plain": [
       "<Figure size 360x360 with 1 Axes>"
      ]
     },
     "metadata": {
      "needs_background": "light"
     },
     "output_type": "display_data"
    }
   ],
   "source": [
    "sns.catplot(x = 'type', y = 'payment_installments', kind = 'box', data = df )"
   ]
  },
  {
   "cell_type": "markdown",
   "id": "15e19472",
   "metadata": {},
   "source": [
    "# Bi Variate"
   ]
  },
  {
   "cell_type": "code",
   "execution_count": 18,
   "id": "89ae6c57",
   "metadata": {},
   "outputs": [
    {
     "data": {
      "text/plain": [
       "<seaborn.axisgrid.FacetGrid at 0x11e117318b0>"
      ]
     },
     "execution_count": 18,
     "metadata": {},
     "output_type": "execute_result"
    },
    {
     "data": {
      "image/png": "[encoded data removed]",
      "text/plain": [
       "<Figure size 451.625x360 with 1 Axes>"
      ]
     },
     "metadata": {
      "needs_background": "light"
     },
     "output_type": "display_data"
    }
   ],
   "source": [
    "sns.catplot(x = 'type', y = 'payment_installments',  kind = 'box', data = df, hue = 'payment_type')\n"
   ]
  },
  {
   "cell_type": "code",
   "execution_count": 19,
   "id": "8739cdbf",
   "metadata": {},
   "outputs": [
    {
     "data": {
      "text/plain": [
       "<seaborn.axisgrid.FacetGrid at 0x11e126f5610>"
      ]
     },
     "execution_count": 19,
     "metadata": {},
     "output_type": "execute_result"
    },
    {
     "data": {
      "image/png": "[encoded data removed]",
      "text/plain": [
       "<Figure size 451.625x360 with 1 Axes>"
      ]
     },
     "metadata": {
      "needs_background": "light"
     },
     "output_type": "display_data"
    }
   ],
   "source": [
    "sns.catplot(x = 'type', y = 'payment_value',  kind = 'box', data = df, hue = 'payment_type')\n"
   ]
  },
  {
   "cell_type": "code",
   "execution_count": 20,
   "id": "1e5617e1",
   "metadata": {},
   "outputs": [
    {
     "data": {
      "text/plain": [
       "<seaborn.axisgrid.FacetGrid at 0x11e11a74d30>"
      ]
     },
     "execution_count": 20,
     "metadata": {},
     "output_type": "execute_result"
    },
    {
     "data": {
      "image/png": "[encoded data removed]",
      "text/plain": [
       "<Figure size 451.625x360 with 1 Axes>"
      ]
     },
     "metadata": {
      "needs_background": "light"
     },
     "output_type": "display_data"
    }
   ],
   "source": [
    "sns.catplot(x = 'type', y = 'freight_value',  kind = 'box', data = df, hue = 'payment_type')\n"
   ]
  },
  {
   "cell_type": "code",
   "execution_count": null,
   "id": "826809ea",
   "metadata": {},
   "outputs": [],
   "source": []
  }
 ],
 "metadata": {
  "kernelspec": {
   "display_name": "Python 3 (ipykernel)",
   "language": "python",
   "name": "python3"
  },
  "language_info": {
   "codemirror_mode": {
    "name": "ipython",
    "version": 3
   },
   "file_extension": ".py",
   "mimetype": "text/x-python",
   "name": "python",
   "nbconvert_exporter": "python",
   "pygments_lexer": "ipython3",
   "version": "3.9.12"
  }
 },
 "nbformat": 4,
 "nbformat_minor": 5
}
